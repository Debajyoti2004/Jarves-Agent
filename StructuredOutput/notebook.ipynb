{
 "cells": [
  {
   "cell_type": "code",
   "execution_count": 1,
   "id": "e77a4fce",
   "metadata": {},
   "outputs": [],
   "source": [
    "import os\n",
    "import sys\n",
    "\n",
    "sys.path.append(os.getcwd())\n",
    "\n",
    "from amazon_product import structure_products_with_cohere"
   ]
  },
  {
   "cell_type": "code",
   "execution_count": 2,
   "id": "95eb0b17",
   "metadata": {},
   "outputs": [],
   "source": [
    "mock_agent_output_string_with_text = \"\"\"Okay Sir, based on your criteria for highly-rated electronics under $500, I found these products matching your preferences:\n",
    "[\n",
    "    {\n",
    "        \"title\": \"Sony WH-1000XM5 Wireless Industry Leading Noise Canceling Headphones\",\n",
    "        \"price\": \"$348.00\",\n",
    "        \"rating\": 4.7,\n",
    "        \"review\": 15230,\n",
    "        \"url\": \"https://www.amazon.com/dp/B0BXYM59YV\",\n",
    "        \"brand\": \"Sony\",\n",
    "        \"asin\": \"B0BXYM59YV\",\n",
    "        \"is_prime\": true\n",
    "    },\n",
    "    {\n",
    "        \"title\": \"Anker USB C Charger, 40W 2-Port PIQ 3.0 Foldable Charger (Nano Pro)\",\n",
    "        \"price\": \"$35.99\",\n",
    "        \"rating_value\": 4.8,\n",
    "        \"rating_count\": 38750,\n",
    "        \"url\": \"https://www.amazon.com/dp/B09C5RG6KV\",\n",
    "        \"brand\": \"Anker\",\n",
    "        \"asin\": \"B09C5RG6KV\",\n",
    "        \"is_prime\": false\n",
    "    },\n",
    "    {\n",
    "        \"title\": \"Samsung 980 PRO SSD 1TB PCIe NVMe Gen 4 Gaming M.2 Internal Solid State Hard Drive\",\n",
    "        \"price\": \"$79.99\",\n",
    "        \"url\": \"https://www.amazon.com/dp/B08GLX7TNT\",\n",
    "        \"asin\": \"B08GLX7TNT\"\n",
    "    }\n",
    "]\n",
    "I hope this selection is helpful! Let me know if you need further refinements.\n",
    "\"\"\""
   ]
  },
  {
   "cell_type": "code",
   "execution_count": 3,
   "id": "9a6bdec4",
   "metadata": {},
   "outputs": [],
   "source": [
    "result = structure_products_with_cohere(\n",
    "    raw_product_data_list=mock_agent_output_string_with_text\n",
    ")"
   ]
  },
  {
   "cell_type": "code",
   "execution_count": 4,
   "id": "7e84753c",
   "metadata": {},
   "outputs": [
    {
     "data": {
      "text/plain": [
       "ProductList(products=[ProductDetail(title='Sony WH-1000XM5 Wireless Industry Leading Noise Canceling Headphones', price='$348.00', rating=4.7, review_count=15230, url='https://www.amazon.com/dp/B0BXYM59YV', brand='Sony', asin='B0BXYM59YV', is_prime=True), ProductDetail(title='Anker USB C Charger, 40W 2-Port PIQ 3.0 Foldable Charger (Nano Pro)', price='$35.99', rating=4.8, review_count=38750, url='https://www.amazon.com/dp/B09C5RG6KV', brand='Anker', asin='B09C5RG6KV', is_prime=False), ProductDetail(title='Samsung 980 PRO SSD 1TB PCIe NVMe Gen 4 Gaming M.2 Internal Solid State Hard Drive', price='$79.99', rating=None, review_count=None, url='https://www.amazon.com/dp/B08GLX7TNT', brand=None, asin='B08GLX7TNT', is_prime=None)])"
      ]
     },
     "execution_count": 4,
     "metadata": {},
     "output_type": "execute_result"
    }
   ],
   "source": [
    "result"
   ]
  },
  {
   "cell_type": "code",
   "execution_count": 5,
   "id": "6a5ed732",
   "metadata": {},
   "outputs": [
    {
     "data": {
      "text/plain": [
       "amazon_product.ProductList"
      ]
     },
     "execution_count": 5,
     "metadata": {},
     "output_type": "execute_result"
    }
   ],
   "source": [
    "type(result)"
   ]
  },
  {
   "cell_type": "code",
   "execution_count": 6,
   "id": "8250b9b8",
   "metadata": {},
   "outputs": [
    {
     "data": {
      "text/plain": [
       "[ProductDetail(title='Sony WH-1000XM5 Wireless Industry Leading Noise Canceling Headphones', price='$348.00', rating=4.7, review_count=15230, url='https://www.amazon.com/dp/B0BXYM59YV', brand='Sony', asin='B0BXYM59YV', is_prime=True),\n",
       " ProductDetail(title='Anker USB C Charger, 40W 2-Port PIQ 3.0 Foldable Charger (Nano Pro)', price='$35.99', rating=4.8, review_count=38750, url='https://www.amazon.com/dp/B09C5RG6KV', brand='Anker', asin='B09C5RG6KV', is_prime=False),\n",
       " ProductDetail(title='Samsung 980 PRO SSD 1TB PCIe NVMe Gen 4 Gaming M.2 Internal Solid State Hard Drive', price='$79.99', rating=None, review_count=None, url='https://www.amazon.com/dp/B08GLX7TNT', brand=None, asin='B08GLX7TNT', is_prime=None)]"
      ]
     },
     "execution_count": 6,
     "metadata": {},
     "output_type": "execute_result"
    }
   ],
   "source": [
    "result.products"
   ]
  },
  {
   "cell_type": "code",
   "execution_count": 7,
   "id": "47b5c043",
   "metadata": {},
   "outputs": [
    {
     "data": {
      "text/plain": [
       "amazon_product.ProductDetail"
      ]
     },
     "execution_count": 7,
     "metadata": {},
     "output_type": "execute_result"
    }
   ],
   "source": [
    "type(result.products[0])"
   ]
  },
  {
   "cell_type": "code",
   "execution_count": 8,
   "id": "97970f47",
   "metadata": {},
   "outputs": [
    {
     "data": {
      "text/plain": [
       "'Sony WH-1000XM5 Wireless Industry Leading Noise Canceling Headphones'"
      ]
     },
     "execution_count": 8,
     "metadata": {},
     "output_type": "execute_result"
    }
   ],
   "source": [
    "result.products[0].title"
   ]
  },
  {
   "cell_type": "code",
   "execution_count": 9,
   "id": "3218a0a4",
   "metadata": {},
   "outputs": [],
   "source": [
    "from hotel_details import structure_hotels_with_cohere"
   ]
  },
  {
   "cell_type": "code",
   "execution_count": 10,
   "id": "fae48aea",
   "metadata": {},
   "outputs": [],
   "source": [
    "mock_raw_hotel_input_string = \"\"\"\n",
    "    Found a couple of options:\n",
    "    1. Hotel Example One: Price around $250, Rating 4.5 stars, includes WiFi and Breakfast. Link: http://details.com/one\n",
    "    2. Grand Hotel Central: Price is $300/night, 4.8 star rating, has Pool, Gym, WiFi. URL: http://details.com/two\n",
    "    Also saw the Budget Stay Inn, but it didn't list many amenities.\n",
    "    \"\"\""
   ]
  },
  {
   "cell_type": "code",
   "execution_count": 11,
   "id": "2c9fdace",
   "metadata": {},
   "outputs": [
    {
     "data": {
      "text/plain": [
       "HotelList(hotels=[HotelDetail(name='Hotel Example One', price='$250', rating='4.5 stars', amenities=['WiFi', 'Breakfast'], detail_url='http://details.com/one'), HotelDetail(name='Grand Hotel Central', price='$300/night', rating='4.8 star', amenities=['Pool', 'Gym', 'WiFi'], detail_url='http://details.com/two')])"
      ]
     },
     "execution_count": 11,
     "metadata": {},
     "output_type": "execute_result"
    }
   ],
   "source": [
    "output = structure_hotels_with_cohere(raw_hotel_data_input=mock_raw_hotel_input_string)\n",
    "output"
   ]
  },
  {
   "cell_type": "code",
   "execution_count": 12,
   "id": "ba817819",
   "metadata": {},
   "outputs": [],
   "source": [
    "mock_raw_hotel_input_list = [\n",
    "        {\n",
    "            \"Name\": \"The Taj Mahal Palace, Mumbai\",\n",
    "            \"Price\": \"₹18500\",\n",
    "            \"Rating\": \"4.7 (5,200 reviews)\",\n",
    "            \"Amenities confirmed\": [\"WiFi\", \"Pool\", \"Spa\", \"Fitness Center\"],\n",
    "            \"URL\": \"https://www.google.com/travel/hotels/entity/...\",\n",
    "            \"extra_field\": \"should be ignored\"\n",
    "        },\n",
    "        {\n",
    "            \"hotel_name\": \"Trident Nariman Point\",\n",
    "            \"verified_price\": \"₹15000\",\n",
    "            \"guest_rating\": \"4.6 (4,800 reviews)\",\n",
    "            \"amenities\": [\"WiFi\", \"Pool\", \"Gym\"],\n",
    "            \"detail_page_url\": \"https://www.google.com/travel/hotels/entity/...\"\n",
    "        },\n",
    "        {\n",
    "            \"Name\": \"Budget Stay Inn\",\n",
    "            \"Price\": \"₹3000\"\n",
    "        }\n",
    "    ]"
   ]
  },
  {
   "cell_type": "code",
   "execution_count": 13,
   "id": "09138989",
   "metadata": {},
   "outputs": [],
   "source": [
    "hotel_detail = structure_hotels_with_cohere(raw_hotel_data_input=mock_raw_hotel_input_list)"
   ]
  },
  {
   "cell_type": "code",
   "execution_count": 14,
   "id": "7159c30d",
   "metadata": {},
   "outputs": [
    {
     "data": {
      "text/plain": [
       "HotelList(hotels=[HotelDetail(name='The Taj Mahal Palace, Mumbai', price='₹18500', rating='4.7 (5,200 reviews)', amenities=['WiFi', 'Pool', 'Spa', 'Fitness Center'], detail_url='https://www.google.com/travel/hotels/entity/...'), HotelDetail(name='Trident Nariman Point', price='₹15000', rating='4.6 (4,800 reviews)', amenities=['WiFi', 'Pool', 'Gym'], detail_url='https://www.google.com/travel/hotels/entity/...')])"
      ]
     },
     "execution_count": 14,
     "metadata": {},
     "output_type": "execute_result"
    }
   ],
   "source": [
    "hotel_detail"
   ]
  },
  {
   "cell_type": "code",
   "execution_count": 15,
   "id": "fbf0a71a",
   "metadata": {},
   "outputs": [],
   "source": [
    "from flight_details import structure_flight_list_with_cohere"
   ]
  },
  {
   "cell_type": "code",
   "execution_count": 16,
   "id": "803e01c8",
   "metadata": {},
   "outputs": [],
   "source": [
    "mock_flight_list_input = [\n",
    "        {\n",
    "          \"outbound_flight\": {\n",
    "            \"departure_datetime\": \"2024-09-15 08:30\", \"arrival_datetime\": \"2024-09-15 11:45\",\n",
    "            \"origin_airport\": \"JFK\", \"destination_airport\": \"LAX\", \"airline\": \"Delta\",\n",
    "            \"duration\": \"6h 15m\", \"num_stops\": 0, \"stop_details\": \"None\"\n",
    "          },\n",
    "          \"return_flight\": {\n",
    "            \"departure_datetime\": \"2024-09-22 14:00\", \"arrival_datetime\": \"2024-09-22 22:10\",\n",
    "            \"origin_airport\": \"LAX\", \"destination_airport\": \"JFK\", \"airline\": \"Delta\",\n",
    "            \"duration\": \"5h 10m\", \"num_stops\": 0, \"stop_details\": \"None\"\n",
    "          },\n",
    "          \"total_price\": \"585.50\", \"currency\": \"USD\",\n",
    "          \"details_url\": \"https://www.google.com/flights?q=...1\",\n",
    "          \"extra_data\": \"ignored\"\n",
    "        },\n",
    "        {\n",
    "          \"outbound_flight\": {\n",
    "            \"departure_datetime\": \"2024-09-15 10:00\", \"arrival_datetime\": \"2024-09-15 16:30\",\n",
    "            \"origin_airport\": \"JFK\", \"destination_airport\": \"LAX\", \"airline\": \"American Airlines\",\n",
    "            \"duration\": \"6h 30m\", \"num_stops\": 1, \"stop_details\": \"ORD (1h 10m)\"\n",
    "          },\n",
    "          \"return_flight\": {\n",
    "            \"departure_datetime\": \"2024-09-22 16:00\", \"arrival_datetime\": \"2024-09-23 00:05\",\n",
    "            \"origin_airport\": \"LAX\", \"destination_airport\": \"JFK\", \"airline\": \"American Airlines\",\n",
    "            \"duration\": \"5h 5m\", \"num_stops\": 0, \"stop_details\": \"None\"\n",
    "          },\n",
    "          \"total_price\": \"550.00\", \"currency\": \"USD\",\n",
    "          \"details_url\": \"https://www.google.com/flights?q=...2\"\n",
    "        },\n",
    "        {\n",
    "            \"outbound_flight\": { \"airline\": \"United\", \"origin_airport\": \"JFK\", \"destination_airport\": \"LAX\"},\n",
    "            \"return_flight\": { \"airline\": \"United\", \"origin_airport\": \"LAX\", \"destination_airport\": \"JFK\"},\n",
    "            \"total_price\": \"610.20\", \"currency\": \"USD\"\n",
    "        }\n",
    "    ]"
   ]
  },
  {
   "cell_type": "code",
   "execution_count": 17,
   "id": "2d9f436e",
   "metadata": {},
   "outputs": [],
   "source": [
    "flight_detailed = structure_flight_list_with_cohere(raw_flight_list_input=mock_flight_list_input)"
   ]
  },
  {
   "cell_type": "code",
   "execution_count": 18,
   "id": "b5863035",
   "metadata": {},
   "outputs": [
    {
     "data": {
      "text/plain": [
       "FlightItineraryList(itineraries=[FlightExtractionResult(outbound_flight=FlightLegDetail(departure_datetime='2024-09-15 08:30', arrival_datetime=None, origin_airport='JFK', destination_airport='LAX', airline='Delta', duration=None, num_stops=None, stop_details=None), return_flight=FlightLegDetail(departure_datetime='2024-09-22 14:00', arrival_datetime=None, origin_airport='LAX', destination_airport='JFK', airline='Delta', duration=None, num_stops=None, stop_details=None), total_price='585.50', currency='USD', details_url='https://www.google.com/flights?q=...1'), FlightExtractionResult(outbound_flight=FlightLegDetail(departure_datetime='2024-09-15 10:00', arrival_datetime=None, origin_airport='JFK', destination_airport='LAX', airline='American Airlines', duration=None, num_stops=None, stop_details=None), return_flight=FlightLegDetail(departure_datetime='2024-09-22 16:00', arrival_datetime=None, origin_airport='LAX', destination_airport='JFK', airline='American Airlines', duration=None, num_stops=None, stop_details=None), total_price='550.00', currency='USD', details_url='https://www.google.com/flights?q=...2'), FlightExtractionResult(outbound_flight=FlightLegDetail(departure_datetime=None, arrival_datetime=None, origin_airport='JFK', destination_airport='LAX', airline='United', duration=None, num_stops=None, stop_details=None), return_flight=FlightLegDetail(departure_datetime=None, arrival_datetime=None, origin_airport='LAX', destination_airport='JFK', airline='United', duration=None, num_stops=None, stop_details=None), total_price='610.20', currency='USD', details_url=None)])"
      ]
     },
     "execution_count": 18,
     "metadata": {},
     "output_type": "execute_result"
    }
   ],
   "source": [
    "flight_detailed"
   ]
  },
  {
   "cell_type": "code",
   "execution_count": 19,
   "id": "894db191",
   "metadata": {},
   "outputs": [
    {
     "data": {
      "text/plain": [
       "[FlightExtractionResult(outbound_flight=FlightLegDetail(departure_datetime='2024-09-15 08:30', arrival_datetime=None, origin_airport='JFK', destination_airport='LAX', airline='Delta', duration=None, num_stops=None, stop_details=None), return_flight=FlightLegDetail(departure_datetime='2024-09-22 14:00', arrival_datetime=None, origin_airport='LAX', destination_airport='JFK', airline='Delta', duration=None, num_stops=None, stop_details=None), total_price='585.50', currency='USD', details_url='https://www.google.com/flights?q=...1'),\n",
       " FlightExtractionResult(outbound_flight=FlightLegDetail(departure_datetime='2024-09-15 10:00', arrival_datetime=None, origin_airport='JFK', destination_airport='LAX', airline='American Airlines', duration=None, num_stops=None, stop_details=None), return_flight=FlightLegDetail(departure_datetime='2024-09-22 16:00', arrival_datetime=None, origin_airport='LAX', destination_airport='JFK', airline='American Airlines', duration=None, num_stops=None, stop_details=None), total_price='550.00', currency='USD', details_url='https://www.google.com/flights?q=...2'),\n",
       " FlightExtractionResult(outbound_flight=FlightLegDetail(departure_datetime=None, arrival_datetime=None, origin_airport='JFK', destination_airport='LAX', airline='United', duration=None, num_stops=None, stop_details=None), return_flight=FlightLegDetail(departure_datetime=None, arrival_datetime=None, origin_airport='LAX', destination_airport='JFK', airline='United', duration=None, num_stops=None, stop_details=None), total_price='610.20', currency='USD', details_url=None)]"
      ]
     },
     "execution_count": 19,
     "metadata": {},
     "output_type": "execute_result"
    }
   ],
   "source": [
    "flight_detailed.itineraries"
   ]
  },
  {
   "cell_type": "code",
   "execution_count": 22,
   "id": "8d977745",
   "metadata": {},
   "outputs": [
    {
     "name": "stdout",
     "output_type": "stream",
     "text": [
      "Outbound Flight: departure_datetime='2024-09-15 08:30' arrival_datetime=None origin_airport='JFK' destination_airport='LAX' airline='Delta' duration=None num_stops=None stop_details=None\n",
      "Return Flight: departure_datetime='2024-09-22 14:00' arrival_datetime=None origin_airport='LAX' destination_airport='JFK' airline='Delta' duration=None num_stops=None stop_details=None\n",
      "Total price: 585.50\n",
      "Currency: USD\n",
      "URL: https://www.google.com/flights?q=...1\n",
      "=========================================\n",
      "Outbound Flight: departure_datetime='2024-09-15 10:00' arrival_datetime=None origin_airport='JFK' destination_airport='LAX' airline='American Airlines' duration=None num_stops=None stop_details=None\n",
      "Return Flight: departure_datetime='2024-09-22 16:00' arrival_datetime=None origin_airport='LAX' destination_airport='JFK' airline='American Airlines' duration=None num_stops=None stop_details=None\n",
      "Total price: 550.00\n",
      "Currency: USD\n",
      "URL: https://www.google.com/flights?q=...2\n",
      "=========================================\n",
      "Outbound Flight: departure_datetime=None arrival_datetime=None origin_airport='JFK' destination_airport='LAX' airline='United' duration=None num_stops=None stop_details=None\n",
      "Return Flight: departure_datetime=None arrival_datetime=None origin_airport='LAX' destination_airport='JFK' airline='United' duration=None num_stops=None stop_details=None\n",
      "Total price: 610.20\n",
      "Currency: USD\n",
      "URL: None\n",
      "=========================================\n"
     ]
    }
   ],
   "source": [
    "for i in range(len(flight_detailed.itineraries)):\n",
    "    current_extracted_detail = flight_detailed.itineraries[i]\n",
    "    print(f\"Outbound Flight: {current_extracted_detail.outbound_flight}\")\n",
    "    print(f\"Return Flight: {current_extracted_detail.return_flight}\")\n",
    "    print(f\"Total price: {current_extracted_detail.total_price}\")\n",
    "    print(f\"Currency: {current_extracted_detail.currency}\")\n",
    "    print(f\"URL: {current_extracted_detail.details_url}\")\n",
    "    print(\"=========================================\")"
   ]
  },
  {
   "cell_type": "code",
   "execution_count": null,
   "id": "b1ca4c00",
   "metadata": {},
   "outputs": [],
   "source": []
  }
 ],
 "metadata": {
  "kernelspec": {
   "display_name": "Python 3",
   "language": "python",
   "name": "python3"
  },
  "language_info": {
   "codemirror_mode": {
    "name": "ipython",
    "version": 3
   },
   "file_extension": ".py",
   "mimetype": "text/x-python",
   "name": "python",
   "nbconvert_exporter": "python",
   "pygments_lexer": "ipython3",
   "version": "3.12.3"
  }
 },
 "nbformat": 4,
 "nbformat_minor": 5
}
