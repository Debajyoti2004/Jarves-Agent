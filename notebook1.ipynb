{
 "cells": [
  {
   "cell_type": "code",
   "execution_count": 1,
   "id": "4f2ae53a",
   "metadata": {},
   "outputs": [],
   "source": [
    "import os\n",
    "web_sites = os.getenv(\"WEB_SITES_COMMAND\")"
   ]
  },
  {
   "cell_type": "code",
   "execution_count": 2,
   "id": "2c982a70",
   "metadata": {},
   "outputs": [
    {
     "data": {
      "text/plain": [
       "'{\"youtube\": \"https://www.youtube.com\", \"google\": \"https://www.google.com\", \"github\": \"https://www.github.com\", \"stackoverflow\": \"https://stackoverflow.com\", \"wikipedia\": \"https://www.wikipedia.org\", \"twitter\": \"https://www.twitter.com\", \"linkedin\": \"https://www.linkedin.com\", \"facebook\": \"https://www.facebook.com\", \"reddit\": \"https://www.reddit.com\", \"amazon\": \"https://www.amazon.com\", \"netflix\": \"https://www.netflix.com\", \"spotify\": \"https://www.spotify.com\", \"gmail\": \"https://mail.google.com\", \"whatsapp\": \"https://web.whatsapp.com\", \"instagram\": \"https://www.instagram.com\"}'"
      ]
     },
     "execution_count": 2,
     "metadata": {},
     "output_type": "execute_result"
    }
   ],
   "source": [
    "web_sites"
   ]
  },
  {
   "cell_type": "code",
   "execution_count": 3,
   "id": "13e6ea82",
   "metadata": {},
   "outputs": [],
   "source": [
    "import json\n",
    "sites_map = json.loads(os.getenv(\"WEB_SITES_COMMAND\", \"{}\"))\n"
   ]
  },
  {
   "cell_type": "code",
   "execution_count": 4,
   "id": "ff08ed22",
   "metadata": {},
   "outputs": [
    {
     "data": {
      "text/plain": [
       "{'youtube': 'https://www.youtube.com',\n",
       " 'google': 'https://www.google.com',\n",
       " 'github': 'https://www.github.com',\n",
       " 'stackoverflow': 'https://stackoverflow.com',\n",
       " 'wikipedia': 'https://www.wikipedia.org',\n",
       " 'twitter': 'https://www.twitter.com',\n",
       " 'linkedin': 'https://www.linkedin.com',\n",
       " 'facebook': 'https://www.facebook.com',\n",
       " 'reddit': 'https://www.reddit.com',\n",
       " 'amazon': 'https://www.amazon.com',\n",
       " 'netflix': 'https://www.netflix.com',\n",
       " 'spotify': 'https://www.spotify.com',\n",
       " 'gmail': 'https://mail.google.com',\n",
       " 'whatsapp': 'https://web.whatsapp.com',\n",
       " 'instagram': 'https://www.instagram.com'}"
      ]
     },
     "execution_count": 4,
     "metadata": {},
     "output_type": "execute_result"
    }
   ],
   "source": [
    "sites_map"
   ]
  },
  {
   "cell_type": "code",
   "execution_count": null,
   "id": "364c9d6b",
   "metadata": {},
   "outputs": [],
   "source": []
  }
 ],
 "metadata": {
  "kernelspec": {
   "display_name": "Python 3",
   "language": "python",
   "name": "python3"
  },
  "language_info": {
   "codemirror_mode": {
    "name": "ipython",
    "version": 3
   },
   "file_extension": ".py",
   "mimetype": "text/x-python",
   "name": "python",
   "nbconvert_exporter": "python",
   "pygments_lexer": "ipython3",
   "version": "3.12.3"
  }
 },
 "nbformat": 4,
 "nbformat_minor": 5
}
