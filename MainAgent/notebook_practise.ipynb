{
 "cells": [
  {
   "cell_type": "code",
   "execution_count": 1,
   "id": "f2c79b7b",
   "metadata": {},
   "outputs": [
    {
     "name": "stdout",
     "output_type": "stream",
     "text": [
      "INFO     [browser_use] BrowserUse logging setup complete with level info\n",
      "INFO     [telemetry] Anonymized telemetry enabled. See https://docs.browser-use.com/development/telemetry for more information.\n"
     ]
    }
   ],
   "source": [
    "from langchain.tools.render import render_text_description\n",
    "from tools import open_app_tool,open_website_tool,amazon_web_scrapper,google_flight_scrapper,google_hotel_scrapper"
   ]
  },
  {
   "cell_type": "code",
   "execution_count": 2,
   "id": "bc47296c",
   "metadata": {},
   "outputs": [],
   "source": [
    "tools_called = [open_app_tool,open_website_tool,amazon_web_scrapper,google_flight_scrapper,google_hotel_scrapper]\n",
    "tool_description = render_text_description(tools_called)"
   ]
  },
  {
   "cell_type": "code",
   "execution_count": 3,
   "id": "c00b7cf9",
   "metadata": {},
   "outputs": [
    {
     "name": "stdout",
     "output_type": "stream",
     "text": [
      "open_app_tool(app_name: str, config: Optional[langchain_core.runnables.config.RunnableConfig] = None) -> str - ✅ Use this tool to open an app on the laptop.\n",
      "\n",
      "Args:\n",
      "    app_name: Name of the app to open.\n",
      "    config: Optional Langchain configuration for the run.\n",
      "\n",
      "Returns:\n",
      "    Success or failure message with emoji.\n",
      "open_website_tool(web_site_name: str, config: Optional[langchain_core.runnables.config.RunnableConfig] = None) -> str - ✅ Use this tool to open a website.\n",
      "\n",
      "Args:\n",
      "    web_site_name: Name of the website to open.\n",
      "    config: Optional Langchain configuration for the run.\n",
      "\n",
      "Returns:\n",
      "    Success or failure message with emoji.\n",
      "amazon_web_scrapper - 🛒 Use this tool to search for products on Amazon.\n",
      "\n",
      "Args:\n",
      "    product_name: Name of the product to search.\n",
      "    user_preferences: Filters such as price, rating, prime eligibility.\n",
      "    config: Optional Langchain configuration for the run.\n",
      "\n",
      "\n",
      "Returns:\n",
      "    List of product details matching the user's preferences. Returns empty list [] if no products found or error occurs.\n",
      "google_flight_scrapper - ✈️ Use this tool to retrieve round-trip flight details.\n",
      "\n",
      "Args:\n",
      "    to_place: Arrival location.\n",
      "    departure_date: Outbound flight date (YYYY-MM-DD).\n",
      "    returned_date: Return flight date (YYYY-MM-DD).\n",
      "    from_place: Departure location (Optional, but highly recommended).\n",
      "    user_reference: Filters like price, stops, passengers.\n",
      "    config: Optional Langchain configuration for the run.\n",
      "\n",
      "Returns:\n",
      "    List of round-trip flight options. Returns empty list [] if no flights found or error occurs.\n",
      "google_hotel_scrapper - 🏨 Use this tool to find hotels in a location for specific dates.\n",
      "\n",
      "Args:\n",
      "    location: Destination.\n",
      "    check_in_date: Format YYYY-MM-DD.\n",
      "    check_out_date: Format YYYY-MM-DD.\n",
      "    user_preference: Hotel filters like price, rating, amenities.\n",
      "    config: Optional Langchain configuration for the run.\n",
      "\n",
      "Returns:\n",
      "    List of matching hotel details. Returns empty list [] if no hotels found or error occurs.\n"
     ]
    }
   ],
   "source": [
    "print(tool_description)"
   ]
  },
  {
   "cell_type": "code",
   "execution_count": 4,
   "id": "771ce43f",
   "metadata": {},
   "outputs": [
    {
     "name": "stdout",
     "output_type": "stream",
     "text": [
      "('open_app_tool(app_name: str, config: '\n",
      " 'Optional[langchain_core.runnables.config.RunnableConfig] = None) -> str - ✅ '\n",
      " 'Use this tool to open an app on the laptop.\\n'\n",
      " '\\n'\n",
      " 'Args:\\n'\n",
      " '    app_name: Name of the app to open.\\n'\n",
      " '    config: Optional Langchain configuration for the run.\\n'\n",
      " '\\n'\n",
      " 'Returns:\\n'\n",
      " '    Success or failure message with emoji.\\n'\n",
      " 'open_website_tool(web_site_name: str, config: '\n",
      " 'Optional[langchain_core.runnables.config.RunnableConfig] = None) -> str - ✅ '\n",
      " 'Use this tool to open a website.\\n'\n",
      " '\\n'\n",
      " 'Args:\\n'\n",
      " '    web_site_name: Name of the website to open.\\n'\n",
      " '    config: Optional Langchain configuration for the run.\\n'\n",
      " '\\n'\n",
      " 'Returns:\\n'\n",
      " '    Success or failure message with emoji.\\n'\n",
      " 'amazon_web_scrapper - 🛒 Use this tool to search for products on Amazon.\\n'\n",
      " '\\n'\n",
      " 'Args:\\n'\n",
      " '    product_name: Name of the product to search.\\n'\n",
      " '    user_preferences: Filters such as price, rating, prime eligibility.\\n'\n",
      " '    config: Optional Langchain configuration for the run.\\n'\n",
      " '\\n'\n",
      " '\\n'\n",
      " 'Returns:\\n'\n",
      " \"    List of product details matching the user's preferences. Returns empty \"\n",
      " 'list [] if no products found or error occurs.\\n'\n",
      " 'google_flight_scrapper - ✈️ Use this tool to retrieve round-trip flight '\n",
      " 'details.\\n'\n",
      " '\\n'\n",
      " 'Args:\\n'\n",
      " '    to_place: Arrival location.\\n'\n",
      " '    departure_date: Outbound flight date (YYYY-MM-DD).\\n'\n",
      " '    returned_date: Return flight date (YYYY-MM-DD).\\n'\n",
      " '    from_place: Departure location (Optional, but highly recommended).\\n'\n",
      " '    user_reference: Filters like price, stops, passengers.\\n'\n",
      " '    config: Optional Langchain configuration for the run.\\n'\n",
      " '\\n'\n",
      " 'Returns:\\n'\n",
      " '    List of round-trip flight options. Returns empty list [] if no flights '\n",
      " 'found or error occurs.\\n'\n",
      " 'google_hotel_scrapper - 🏨 Use this tool to find hotels in a location for '\n",
      " 'specific dates.\\n'\n",
      " '\\n'\n",
      " 'Args:\\n'\n",
      " '    location: Destination.\\n'\n",
      " '    check_in_date: Format YYYY-MM-DD.\\n'\n",
      " '    check_out_date: Format YYYY-MM-DD.\\n'\n",
      " '    user_preference: Hotel filters like price, rating, amenities.\\n'\n",
      " '    config: Optional Langchain configuration for the run.\\n'\n",
      " '\\n'\n",
      " 'Returns:\\n'\n",
      " '    List of matching hotel details. Returns empty list [] if no hotels found '\n",
      " 'or error occurs.')\n"
     ]
    }
   ],
   "source": [
    "import pprint\n",
    "pprint.pprint(tool_description)"
   ]
  },
  {
   "cell_type": "code",
   "execution_count": 3,
   "id": "bf9ea142",
   "metadata": {},
   "outputs": [
    {
     "name": "stdout",
     "output_type": "stream",
     "text": [
      "▶️ Starting Jarves Scanner for document type: [general document]\n",
      "Jarvis: Starting Jarves Scanner for document type: [general document]\n",
      "Launching camera capture module...\n",
      "Jarvis: Launching camera capture module\n",
      "👍 Image captured!\n",
      "Jarvis: Image captured!\n",
      "Processing captured image...\n",
      "Jarvis: Processing captured image\n",
      "🎉 Scan complete! Data structured.\n",
      "Jarvis: Scan complete! Data structured.\n",
      "Jarvis: Here are the list items.\n",
      "  Item 1: {'6200': None}\n",
      "  Item 2: {'4274': None}\n",
      "  Item 3: {'6254': None}\n",
      "  Item 4: {'FU': None}\n",
      "  Item 5: {'ANI': None}\n",
      "  Item 6: {'AY': None}\n",
      "  Item 7: {'cea': None}\n"
     ]
    }
   ],
   "source": [
    "from tools import jarves_scanner\n",
    "input_payload = {\n",
    "    \"document_type\": \"general document\", \n",
    "    \"custom_instructions\": \"Extract all key information. If it's an ID, get name, ID number, DOB, expiry. If a receipt, get store, total, date, items. For notes, summarize key points.\"\n",
    "}\n",
    "\n",
    "structured_data_str = jarves_scanner.invoke(input=input_payload)"
   ]
  },
  {
   "cell_type": "code",
   "execution_count": null,
   "id": "a475d5cf",
   "metadata": {},
   "outputs": [],
   "source": []
  }
 ],
 "metadata": {
  "kernelspec": {
   "display_name": "Python 3",
   "language": "python",
   "name": "python3"
  },
  "language_info": {
   "codemirror_mode": {
    "name": "ipython",
    "version": 3
   },
   "file_extension": ".py",
   "mimetype": "text/x-python",
   "name": "python",
   "nbconvert_exporter": "python",
   "pygments_lexer": "ipython3",
   "version": "3.12.3"
  }
 },
 "nbformat": 4,
 "nbformat_minor": 5
}
